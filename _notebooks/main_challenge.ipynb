{
 "cells": [
  {
   "cell_type": "code",
   "execution_count": 25,
   "id": "6003a573",
   "metadata": {},
   "outputs": [],
   "source": [
    "import pandas as pd\n",
    "import numpy as np\n",
    "from sklearn.model_selection import train_test_split\n",
    "import matplotlib.pyplot as plt\n",
    "import seaborn as sns\n"
   ]
  },
  {
   "cell_type": "code",
   "execution_count": 3,
   "id": "9de4f5ab",
   "metadata": {},
   "outputs": [],
   "source": [
    "df = pd.read_csv('data/dados_sensores_challenge.csv')"
   ]
  },
  {
   "cell_type": "markdown",
   "id": "43a86598",
   "metadata": {},
   "source": [
    "# Análise de Dados"
   ]
  },
  {
   "cell_type": "code",
   "execution_count": 22,
   "id": "67170552",
   "metadata": {},
   "outputs": [
    {
     "data": {
      "text/html": [
       "<div>\n",
       "<style scoped>\n",
       "    .dataframe tbody tr th:only-of-type {\n",
       "        vertical-align: middle;\n",
       "    }\n",
       "\n",
       "    .dataframe tbody tr th {\n",
       "        vertical-align: top;\n",
       "    }\n",
       "\n",
       "    .dataframe thead th {\n",
       "        text-align: right;\n",
       "    }\n",
       "</style>\n",
       "<table border=\"1\" class=\"dataframe\">\n",
       "  <thead>\n",
       "    <tr style=\"text-align: right;\">\n",
       "      <th></th>\n",
       "      <th>id</th>\n",
       "      <th>temperatura</th>\n",
       "      <th>umidade</th>\n",
       "      <th>vibracao</th>\n",
       "      <th>status</th>\n",
       "    </tr>\n",
       "  </thead>\n",
       "  <tbody>\n",
       "    <tr>\n",
       "      <th>0</th>\n",
       "      <td>691</td>\n",
       "      <td>35.4</td>\n",
       "      <td>82.5</td>\n",
       "      <td>2.0212</td>\n",
       "      <td>NORMAL</td>\n",
       "    </tr>\n",
       "    <tr>\n",
       "      <th>1</th>\n",
       "      <td>690</td>\n",
       "      <td>35.4</td>\n",
       "      <td>82.5</td>\n",
       "      <td>2.0212</td>\n",
       "      <td>NORMAL</td>\n",
       "    </tr>\n",
       "    <tr>\n",
       "      <th>2</th>\n",
       "      <td>689</td>\n",
       "      <td>35.4</td>\n",
       "      <td>82.5</td>\n",
       "      <td>2.0212</td>\n",
       "      <td>NORMAL</td>\n",
       "    </tr>\n",
       "    <tr>\n",
       "      <th>3</th>\n",
       "      <td>688</td>\n",
       "      <td>35.4</td>\n",
       "      <td>82.5</td>\n",
       "      <td>2.0212</td>\n",
       "      <td>NORMAL</td>\n",
       "    </tr>\n",
       "    <tr>\n",
       "      <th>4</th>\n",
       "      <td>687</td>\n",
       "      <td>35.4</td>\n",
       "      <td>82.5</td>\n",
       "      <td>2.0212</td>\n",
       "      <td>NORMAL</td>\n",
       "    </tr>\n",
       "  </tbody>\n",
       "</table>\n",
       "</div>"
      ],
      "text/plain": [
       "    id  temperatura  umidade  vibracao  status\n",
       "0  691         35.4     82.5    2.0212  NORMAL\n",
       "1  690         35.4     82.5    2.0212  NORMAL\n",
       "2  689         35.4     82.5    2.0212  NORMAL\n",
       "3  688         35.4     82.5    2.0212  NORMAL\n",
       "4  687         35.4     82.5    2.0212  NORMAL"
      ]
     },
     "execution_count": 22,
     "metadata": {},
     "output_type": "execute_result"
    }
   ],
   "source": [
    "df.head()"
   ]
  },
  {
   "cell_type": "code",
   "execution_count": 21,
   "id": "81ba82d3",
   "metadata": {},
   "outputs": [
    {
     "data": {
      "text/html": [
       "<div>\n",
       "<style scoped>\n",
       "    .dataframe tbody tr th:only-of-type {\n",
       "        vertical-align: middle;\n",
       "    }\n",
       "\n",
       "    .dataframe tbody tr th {\n",
       "        vertical-align: top;\n",
       "    }\n",
       "\n",
       "    .dataframe thead th {\n",
       "        text-align: right;\n",
       "    }\n",
       "</style>\n",
       "<table border=\"1\" class=\"dataframe\">\n",
       "  <thead>\n",
       "    <tr style=\"text-align: right;\">\n",
       "      <th></th>\n",
       "      <th>id</th>\n",
       "      <th>temperatura</th>\n",
       "      <th>umidade</th>\n",
       "      <th>vibracao</th>\n",
       "    </tr>\n",
       "  </thead>\n",
       "  <tbody>\n",
       "    <tr>\n",
       "      <th>count</th>\n",
       "      <td>691.000000</td>\n",
       "      <td>691.000000</td>\n",
       "      <td>691.000000</td>\n",
       "      <td>691.000000</td>\n",
       "    </tr>\n",
       "    <tr>\n",
       "      <th>mean</th>\n",
       "      <td>346.000000</td>\n",
       "      <td>11.802894</td>\n",
       "      <td>54.484081</td>\n",
       "      <td>2.346784</td>\n",
       "    </tr>\n",
       "    <tr>\n",
       "      <th>std</th>\n",
       "      <td>199.618803</td>\n",
       "      <td>26.254824</td>\n",
       "      <td>32.229090</td>\n",
       "      <td>1.940911</td>\n",
       "    </tr>\n",
       "    <tr>\n",
       "      <th>min</th>\n",
       "      <td>1.000000</td>\n",
       "      <td>-22.200000</td>\n",
       "      <td>13.500000</td>\n",
       "      <td>0.000000</td>\n",
       "    </tr>\n",
       "    <tr>\n",
       "      <th>25%</th>\n",
       "      <td>173.500000</td>\n",
       "      <td>-20.000000</td>\n",
       "      <td>15.500000</td>\n",
       "      <td>0.000000</td>\n",
       "    </tr>\n",
       "    <tr>\n",
       "      <th>50%</th>\n",
       "      <td>346.000000</td>\n",
       "      <td>27.900000</td>\n",
       "      <td>53.500000</td>\n",
       "      <td>1.698150</td>\n",
       "    </tr>\n",
       "    <tr>\n",
       "      <th>75%</th>\n",
       "      <td>518.500000</td>\n",
       "      <td>36.000000</td>\n",
       "      <td>82.500000</td>\n",
       "      <td>4.160160</td>\n",
       "    </tr>\n",
       "    <tr>\n",
       "      <th>max</th>\n",
       "      <td>691.000000</td>\n",
       "      <td>56.300000</td>\n",
       "      <td>100.000000</td>\n",
       "      <td>9.418460</td>\n",
       "    </tr>\n",
       "  </tbody>\n",
       "</table>\n",
       "</div>"
      ],
      "text/plain": [
       "               id  temperatura     umidade    vibracao\n",
       "count  691.000000   691.000000  691.000000  691.000000\n",
       "mean   346.000000    11.802894   54.484081    2.346784\n",
       "std    199.618803    26.254824   32.229090    1.940911\n",
       "min      1.000000   -22.200000   13.500000    0.000000\n",
       "25%    173.500000   -20.000000   15.500000    0.000000\n",
       "50%    346.000000    27.900000   53.500000    1.698150\n",
       "75%    518.500000    36.000000   82.500000    4.160160\n",
       "max    691.000000    56.300000  100.000000    9.418460"
      ]
     },
     "execution_count": 21,
     "metadata": {},
     "output_type": "execute_result"
    }
   ],
   "source": [
    "df.describe()"
   ]
  },
  {
   "cell_type": "code",
   "execution_count": 38,
   "id": "b7098cff",
   "metadata": {},
   "outputs": [
    {
     "data": {
      "text/plain": [
       "id             False\n",
       "temperatura    False\n",
       "umidade        False\n",
       "vibracao       False\n",
       "status         False\n",
       "dtype: bool"
      ]
     },
     "execution_count": 38,
     "metadata": {},
     "output_type": "execute_result"
    }
   ],
   "source": [
    "df.isna().any()"
   ]
  },
  {
   "cell_type": "code",
   "execution_count": 32,
   "id": "653a4132",
   "metadata": {},
   "outputs": [
    {
     "data": {
      "image/png": "[encoded data removed]",
      "text/plain": [
       "<Figure size 800x600 with 2 Axes>"
      ]
     },
     "metadata": {},
     "output_type": "display_data"
    },
    {
     "data": {
      "image/png": "[encoded data removed]",
      "text/plain": [
       "<Figure size 1500x500 with 3 Axes>"
      ]
     },
     "metadata": {},
     "output_type": "display_data"
    }
   ],
   "source": [
    "# Matriz de Correlação\n",
    "correlation_matrix = df[['temperatura', 'umidade', 'vibracao']].corr()\n",
    "plt.figure(figsize=(8, 6))\n",
    "sns.heatmap(correlation_matrix, annot=True, cmap='coolwarm', fmt=\".2f\")\n",
    "plt.title('Matriz de Correlação')\n",
    "plt.savefig('correlation_matrix.png')\n",
    "\n",
    "# Histograma das variáveis numéricas\n",
    "plt.figure(figsize=(15, 5))\n",
    "\n",
    "# Histograma de Temperatura\n",
    "plt.subplot(1, 3, 1)\n",
    "plt.hist(df['temperatura'], bins=5, color='skyblue', edgecolor='black')\n",
    "plt.title('Histograma de Temperatura')\n",
    "plt.xlabel('Temperatura')\n",
    "plt.ylabel('Frequência')\n",
    "\n",
    "# Histograma de Umidade\n",
    "plt.subplot(1, 3, 2)\n",
    "plt.hist(df['umidade'], bins=5, color='lightgreen', edgecolor='black')\n",
    "plt.title('Histograma de Umidade')\n",
    "plt.xlabel('Umidade')\n",
    "plt.ylabel('Frequência')\n",
    "\n",
    "# Histograma de Vibração\n",
    "plt.subplot(1, 3, 3)\n",
    "plt.hist(df['vibracao'], bins=5, color='salmon', edgecolor='black')\n",
    "plt.title('Histograma de Vibração')\n",
    "plt.xlabel('Vibração')\n",
    "plt.ylabel('Frequência')\n",
    "\n",
    "plt.tight_layout()\n",
    "plt.savefig('histograms.png')"
   ]
  },
  {
   "cell_type": "code",
   "execution_count": 5,
   "id": "d938b0f5",
   "metadata": {},
   "outputs": [],
   "source": [
    "X = df.drop(columns=['status', \"id\"])\n",
    "y = df['status']"
   ]
  },
  {
   "cell_type": "code",
   "execution_count": 6,
   "id": "669a6872",
   "metadata": {},
   "outputs": [],
   "source": [
    "X_train, X_test, y_train, y_test = train_test_split(X, y, test_size=0.2, random_state=42)"
   ]
  },
  {
   "cell_type": "markdown",
   "id": "60c86bd1",
   "metadata": {},
   "source": [
    "# Treinamento do Modelo"
   ]
  },
  {
   "cell_type": "code",
   "execution_count": 17,
   "id": "3ddb8637",
   "metadata": {},
   "outputs": [
    {
     "name": "stdout",
     "output_type": "stream",
     "text": [
      "Model: DecisionTreeClassifier\n",
      "Accuracy: 1.0\n",
      "              precision    recall  f1-score   support\n",
      "\n",
      "      ALERTA       1.00      1.00      1.00        43\n",
      "      NORMAL       1.00      1.00      1.00        40\n",
      "      PERIGO       1.00      1.00      1.00        56\n",
      "\n",
      "    accuracy                           1.00       139\n",
      "   macro avg       1.00      1.00      1.00       139\n",
      "weighted avg       1.00      1.00      1.00       139\n",
      "\n",
      "\n",
      "\n",
      "Model: SVC\n",
      "Accuracy: 0.5035971223021583\n",
      "              precision    recall  f1-score   support\n",
      "\n",
      "      ALERTA       0.53      0.40      0.45        43\n",
      "      NORMAL       0.40      0.35      0.37        40\n",
      "      PERIGO       0.54      0.70      0.61        56\n",
      "\n",
      "    accuracy                           0.50       139\n",
      "   macro avg       0.49      0.48      0.48       139\n",
      "weighted avg       0.50      0.50      0.49       139\n",
      "\n",
      "\n",
      "\n",
      "Model: AdaBoostClassifier\n",
      "Accuracy: 0.4028776978417266\n",
      "              precision    recall  f1-score   support\n",
      "\n",
      "      ALERTA       0.34      1.00      0.51        43\n",
      "      NORMAL       0.00      0.00      0.00        40\n",
      "      PERIGO       1.00      0.23      0.38        56\n",
      "\n",
      "    accuracy                           0.40       139\n",
      "   macro avg       0.45      0.41      0.30       139\n",
      "weighted avg       0.51      0.40      0.31       139\n",
      "\n",
      "\n",
      "\n",
      "Model: LogisticRegression\n",
      "Accuracy: 0.37410071942446044\n",
      "              precision    recall  f1-score   support\n",
      "\n",
      "      ALERTA       0.40      0.19      0.25        43\n",
      "      NORMAL       0.41      0.30      0.35        40\n",
      "      PERIGO       0.36      0.57      0.44        56\n",
      "\n",
      "    accuracy                           0.37       139\n",
      "   macro avg       0.39      0.35      0.35       139\n",
      "weighted avg       0.39      0.37      0.36       139\n",
      "\n",
      "\n",
      "\n",
      "Model: RandomForestClassifier\n",
      "Accuracy: 1.0\n",
      "              precision    recall  f1-score   support\n",
      "\n",
      "      ALERTA       1.00      1.00      1.00        43\n",
      "      NORMAL       1.00      1.00      1.00        40\n",
      "      PERIGO       1.00      1.00      1.00        56\n",
      "\n",
      "    accuracy                           1.00       139\n",
      "   macro avg       1.00      1.00      1.00       139\n",
      "weighted avg       1.00      1.00      1.00       139\n",
      "\n",
      "\n",
      "\n",
      "Best model: DecisionTreeClassifier\n",
      "Best accuracy: 1.0\n"
     ]
    },
    {
     "name": "stderr",
     "output_type": "stream",
     "text": [
      "/Users/daniel.lima/Documents/fiap/farm-predict/yield-env/lib/python3.10/site-packages/sklearn/metrics/_classification.py:1731: UndefinedMetricWarning: Precision is ill-defined and being set to 0.0 in labels with no predicted samples. Use `zero_division` parameter to control this behavior.\n",
      "  _warn_prf(average, modifier, f\"{metric.capitalize()} is\", result.shape[0])\n",
      "/Users/daniel.lima/Documents/fiap/farm-predict/yield-env/lib/python3.10/site-packages/sklearn/metrics/_classification.py:1731: UndefinedMetricWarning: Precision is ill-defined and being set to 0.0 in labels with no predicted samples. Use `zero_division` parameter to control this behavior.\n",
      "  _warn_prf(average, modifier, f\"{metric.capitalize()} is\", result.shape[0])\n",
      "/Users/daniel.lima/Documents/fiap/farm-predict/yield-env/lib/python3.10/site-packages/sklearn/metrics/_classification.py:1731: UndefinedMetricWarning: Precision is ill-defined and being set to 0.0 in labels with no predicted samples. Use `zero_division` parameter to control this behavior.\n",
      "  _warn_prf(average, modifier, f\"{metric.capitalize()} is\", result.shape[0])\n"
     ]
    }
   ],
   "source": [
    "from sklearn.tree import DecisionTreeClassifier\n",
    "from sklearn.svm import SVC\n",
    "from sklearn.ensemble import AdaBoostClassifier\n",
    "from sklearn.linear_model import LogisticRegression\n",
    "from sklearn.ensemble import RandomForestClassifier\n",
    "from sklearn.metrics import accuracy_score, classification_report\n",
    "\n",
    "model_tree = DecisionTreeClassifier()\n",
    "model_svm = SVC()\n",
    "model_ada = AdaBoostClassifier()\n",
    "model_log = LogisticRegression()\n",
    "model_forest = RandomForestClassifier()\n",
    "\n",
    "models = [model_tree, model_svm, model_ada, model_log, model_forest]\n",
    "\n",
    "best_model = None\n",
    "best_accuracy = 0\n",
    "\n",
    "for model in models:\n",
    "    model.fit(X_train, y_train)\n",
    "    y_pred = model.predict(X_test)\n",
    "    print(f\"Model: {model.__class__.__name__}\")\n",
    "    print(f\"Accuracy: {accuracy_score(y_test, y_pred)}\")\n",
    "    print(classification_report(y_test, y_pred))\n",
    "    print(\"\\n\")\n",
    "\n",
    "    if accuracy_score(y_test, y_pred) > best_accuracy:\n",
    "        best_model = model\n",
    "        best_accuracy = accuracy_score(y_test, y_pred)\n",
    "\n",
    "print(f\"Best model: {best_model.__class__.__name__}\")\n",
    "print(f\"Best accuracy: {best_accuracy}\")"
   ]
  },
  {
   "cell_type": "code",
   "execution_count": 18,
   "id": "6a4567a5",
   "metadata": {},
   "outputs": [
    {
     "data": {
      "text/plain": [
       "1.0"
      ]
     },
     "execution_count": 18,
     "metadata": {},
     "output_type": "execute_result"
    }
   ],
   "source": [
    "best_model.score(X_test, y_test)"
   ]
  },
  {
   "cell_type": "markdown",
   "id": "36a9e133",
   "metadata": {},
   "source": [
    "# Salvando modelo"
   ]
  },
  {
   "cell_type": "code",
   "execution_count": 40,
   "id": "91a8fc89",
   "metadata": {},
   "outputs": [],
   "source": [
    "pd.to_pickle(best_model, \"best_model.pkl\")"
   ]
  },
  {
   "cell_type": "code",
   "execution_count": null,
   "id": "fd7e056f",
   "metadata": {},
   "outputs": [],
   "source": []
  }
 ],
 "metadata": {
  "kernelspec": {
   "display_name": "yield-env",
   "language": "python",
   "name": "python3"
  },
  "language_info": {
   "codemirror_mode": {
    "name": "ipython",
    "version": 3
   },
   "file_extension": ".py",
   "mimetype": "text/x-python",
   "name": "python",
   "nbconvert_exporter": "python",
   "pygments_lexer": "ipython3",
   "version": "3.10.13"
  }
 },
 "nbformat": 4,
 "nbformat_minor": 5
}
